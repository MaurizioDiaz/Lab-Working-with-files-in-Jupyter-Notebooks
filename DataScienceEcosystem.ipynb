{
 "cells": [
  {
   "cell_type": "markdown",
   "id": "a079b807-f684-4618-b1a6-44481f864b31",
   "metadata": {},
   "source": [
    "# Data Science Tools and Ecosystem"
   ]
  },
  {
   "cell_type": "markdown",
   "id": "eb224749-0194-422f-93f5-6caf085be1f7",
   "metadata": {},
   "source": [
    "In this notebook, Data Science Tools and Ecosystem are summarized."
   ]
  },
  {
   "cell_type": "markdown",
   "id": "2e5ca666-3930-495c-8ee2-68c32e5a3aa8",
   "metadata": {},
   "source": [
    "Objectives:\n",
    "- List popular languages for Data Science.\n",
    "- List commonly used libraries used by Data Scientists\n",
    "- Show evaluating arithmetic expressions in Python."
   ]
  },
  {
   "cell_type": "markdown",
   "id": "99b3cf32-c641-48d1-9fba-5aeedb240252",
   "metadata": {},
   "source": [
    "Some of the popular languages that Data Scientists use are:\n",
    "1. Python\n",
    "2. R\n",
    "3. Java"
   ]
  },
  {
   "cell_type": "markdown",
   "id": "bd777788-baef-4c4e-9931-4006a9854c8a",
   "metadata": {},
   "source": [
    "Some of the commonly used libraries used by Data Scientists include:\n",
    "1. Pandas\n",
    "2. SCiKitLearn\n",
    "3. Matplotlib\n"
   ]
  },
  {
   "cell_type": "markdown",
   "id": "5a86f8e8-45b0-4e92-aa9a-eac2b0d8e9e0",
   "metadata": {},
   "source": [
    "|Data Science Tools|\n",
    "|------------------|\n",
    "|Jupyter|\n",
    "|MySql|\n",
    "|MongoDB|\n",
    "|Haddop|\n",
    "|TensorFlow|\n"
   ]
  },
  {
   "cell_type": "markdown",
   "id": "f30bccb0-fffd-46d1-ad07-d564d411b1c4",
   "metadata": {},
   "source": [
    "### Below are a few examples of evaluating arithmetic expressions in Python.\n"
   ]
  },
  {
   "cell_type": "code",
   "execution_count": 1,
   "id": "b5172a8a-d497-48e6-a450-c9205f086433",
   "metadata": {
    "tags": []
   },
   "outputs": [
    {
     "data": {
      "text/plain": [
       "17"
      ]
     },
     "execution_count": 1,
     "metadata": {},
     "output_type": "execute_result"
    }
   ],
   "source": [
    "#This is a simple arithmetic expression to mutiply then add integers.\n",
    "(3*4)+5\n"
   ]
  },
  {
   "cell_type": "code",
   "execution_count": 2,
   "id": "5d97d97f-d617-49a7-b607-60667da01c52",
   "metadata": {
    "tags": []
   },
   "outputs": [
    {
     "data": {
      "text/plain": [
       "3.3333333333333335"
      ]
     },
     "execution_count": 2,
     "metadata": {},
     "output_type": "execute_result"
    }
   ],
   "source": [
    "#This will convert 200 minutes to hours by diving by 60.\n",
    "200/60"
   ]
  },
  {
   "cell_type": "markdown",
   "id": "3a5b90de-13e2-40c2-8aca-0b7a99694658",
   "metadata": {},
   "source": [
    "## Author\n",
    "Rene Mauricio Diaz Rivera"
   ]
  },
  {
   "cell_type": "code",
   "execution_count": null,
   "id": "95b70d00-ba4f-44e4-8b1f-11ffb874d444",
   "metadata": {},
   "outputs": [],
   "source": []
  }
 ],
 "metadata": {
  "kernelspec": {
   "display_name": "Python",
   "language": "python",
   "name": "conda-env-python-py"
  },
  "language_info": {
   "codemirror_mode": {
    "name": "ipython",
    "version": 3
   },
   "file_extension": ".py",
   "mimetype": "text/x-python",
   "name": "python",
   "nbconvert_exporter": "python",
   "pygments_lexer": "ipython3",
   "version": "3.7.12"
  }
 },
 "nbformat": 4,
 "nbformat_minor": 5
}
